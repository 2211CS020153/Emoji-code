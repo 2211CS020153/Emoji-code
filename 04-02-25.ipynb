{
 "cells": [
  {
   "cell_type": "code",
   "execution_count": 2,
   "id": "c8ee1d5d-ea7e-4f0a-a431-46b845142283",
   "metadata": {},
   "outputs": [
    {
     "name": "stdout",
     "output_type": "stream",
     "text": [
      "Collecting emot\n",
      "  Obtaining dependency information for emot from https://files.pythonhosted.org/packages/28/b3/3a0f1f66c448fc66aba69a73d6405a104fd973142594ee8bc5a5122e949c/emot-3.1-py3-none-any.whl.metadata\n",
      "  Downloading emot-3.1-py3-none-any.whl.metadata (396 bytes)\n",
      "Downloading emot-3.1-py3-none-any.whl (61 kB)\n",
      "   ---------------------------------------- 0.0/61.5 kB ? eta -:--:--\n",
      "   ------ --------------------------------- 10.2/61.5 kB ? eta -:--:--\n",
      "   ------ --------------------------------- 10.2/61.5 kB ? eta -:--:--\n",
      "   ------ --------------------------------- 10.2/61.5 kB ? eta -:--:--\n",
      "   -------------------------- ------------- 41.0/61.5 kB 178.6 kB/s eta 0:00:01\n",
      "   -------------------------- ------------- 41.0/61.5 kB 178.6 kB/s eta 0:00:01\n",
      "   -------------------------- ------------- 41.0/61.5 kB 178.6 kB/s eta 0:00:01\n",
      "   -------------------------- ------------- 41.0/61.5 kB 178.6 kB/s eta 0:00:01\n",
      "   -------------------------- ------------- 41.0/61.5 kB 178.6 kB/s eta 0:00:01\n",
      "   -------------------------- ------------- 41.0/61.5 kB 178.6 kB/s eta 0:00:01\n",
      "   --------------------------------- ------ 51.2/61.5 kB 90.4 kB/s eta 0:00:01\n",
      "   --------------------------------- ------ 51.2/61.5 kB 90.4 kB/s eta 0:00:01\n",
      "   --------------------------------- ------ 51.2/61.5 kB 90.4 kB/s eta 0:00:01\n",
      "   ---------------------------------------- 61.5/61.5 kB 88.6 kB/s eta 0:00:00\n",
      "Installing collected packages: emot\n",
      "Successfully installed emot-3.1\n"
     ]
    },
    {
     "name": "stderr",
     "output_type": "stream",
     "text": [
      "WARNING: Retrying (Retry(total=4, connect=None, read=None, redirect=None, status=None)) after connection broken by 'NewConnectionError('<pip._vendor.urllib3.connection.HTTPSConnection object at 0x000001531A8B50D0>: Failed to establish a new connection: [Errno 11001] getaddrinfo failed')': /simple/emot/\n"
     ]
    }
   ],
   "source": [
    "#Installing emot library\n",
    "\n",
    "!pip install emot"
   ]
  },
  {
   "cell_type": "code",
   "execution_count": 4,
   "id": "9f121a7f-b823-42d8-ae39-79af07bd651e",
   "metadata": {},
   "outputs": [],
   "source": [
    "#create sample text data with emoji\n",
    "\n",
    "text1 = \"What are you saying 😂. I am the boss😎 , and why are you so🤫 \""
   ]
  },
  {
   "cell_type": "code",
   "execution_count": 5,
   "id": "73426c51-6bf3-4641-ae1c-59b7c032eea9",
   "metadata": {},
   "outputs": [],
   "source": [
    "import re\n",
    "from emot.emo_unicode import UNICODE_EMOJI\n",
    "from emot.emo_unicode import EMOTICONS_EMO"
   ]
  },
  {
   "cell_type": "code",
   "execution_count": 6,
   "id": "c7864d6b-67d4-4c2c-8f5f-d4340853fc79",
   "metadata": {},
   "outputs": [
    {
     "data": {
      "text/plain": [
       "'What are you saying face_with_tears_of_joy. I am the bosssmiling_face_with_sunglasses , and why are you soshushing_face '"
      ]
     },
     "execution_count": 6,
     "metadata": {},
     "output_type": "execute_result"
    }
   ],
   "source": [
    "# Function for converting emojis into word\n",
    "def converting_emojis(text):\n",
    "    for emot in UNICODE_EMOJI:\n",
    "        text = text.replace(emot, \"_\".join(UNICODE_EMOJI[emot].replace(\",\",\"\").replace(\":\",\"\").split()))\n",
    "    return text\n",
    "converting_emojis(text1)"
   ]
  },
  {
   "cell_type": "code",
   "execution_count": 9,
   "id": "93415211-bbb7-4f23-bc7c-9857f0a839b1",
   "metadata": {},
   "outputs": [
    {
     "data": {
      "text/plain": [
       "'What are you saying . I am the boss , and why are you so '"
      ]
     },
     "execution_count": 9,
     "metadata": {},
     "output_type": "execute_result"
    }
   ],
   "source": [
    "def emoji_removal(string):\n",
    "\n",
    "    emoji_unicodes = re.compile(\"[\"\n",
    "\n",
    "                               u\"\\U0001F600-\\U0001F64F\"  # emoticons\n",
    "\n",
    "                               u\"\\U0001F300-\\U0001F5FF\"  # symbols \n",
    "\n",
    "                               u\"\\U0001F680-\\U0001F6FF\"  # transport \n",
    "\n",
    "                               u\"\\U0001F1E0-\\U0001F1FF\"  # flags (iOS)\n",
    "\n",
    "                               u\"\\U00002500-\\U00002BEF\"  \n",
    "\n",
    "                               u\"\\U00002702-\\U000027B0\"\n",
    "\n",
    "                               u\"\\U000024C2-\\U0001F251\"\n",
    "\n",
    "                               u\"\\U0001f926-\\U0001f937\"\n",
    "\n",
    "                               u\"\\U00010000-\\U0010ffff\"\n",
    "                               \n",
    "u\"\\u2640-\\u2642\"\n",
    "\n",
    "                               u\"\\u2600-\\u2B55\"\n",
    "\n",
    "                               u\"\\u200d\"\n",
    "\n",
    "                               u\"\\u23cf\"\n",
    "\n",
    "                               u\"\\u23e9\"\n",
    "\n",
    "                               u\"\\u231a\"\n",
    "\n",
    "                               u\"\\ufe0f\"  \n",
    "\n",
    "                               u\"\\u3030\"\n",
    "\n",
    "                               \"]+\", flags=re.UNICODE)\n",
    "\n",
    "    return emoji_unicodes.sub(r'', string)\n",
    "\n",
    " \n",
    "\n",
    "emoji_removal(text1)\n",
    "\n",
    "\n",
    "\n",
    "\n",
    "\n",
    "\n",
    "\n"
   ]
  },
  {
   "cell_type": "code",
   "execution_count": null,
   "id": "cd6e9637-590d-4f35-b404-ac4e840fd806",
   "metadata": {},
   "outputs": [],
   "source": []
  }
 ],
 "metadata": {
  "kernelspec": {
   "display_name": "Python 3 (ipykernel)",
   "language": "python",
   "name": "python3"
  },
  "language_info": {
   "codemirror_mode": {
    "name": "ipython",
    "version": 3
   },
   "file_extension": ".py",
   "mimetype": "text/x-python",
   "name": "python",
   "nbconvert_exporter": "python",
   "pygments_lexer": "ipython3",
   "version": "3.11.5"
  }
 },
 "nbformat": 4,
 "nbformat_minor": 5
}
